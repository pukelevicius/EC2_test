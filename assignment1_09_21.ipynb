{
 "cells": [
  {
   "cell_type": "code",
   "execution_count": 9,
   "metadata": {},
   "outputs": [],
   "source": [
    "import sys\n",
    "sys.path.insert(0, 'evoman')\n",
    "sys.path.append('C:/Users/doman/OneDrive/files/VU AI/evolutionary computing/evoman_framework')\n",
    "sys.path.append('C:/Users/doman/OneDrive/files/VU AI/evolutionary computing/evoman_framework/evoman')\n",
    "\n",
    "from evoman.environment import Environment\n",
    "from demo_controller import player_controller\n",
    "\n",
    "# imports other libs\n",
    "import time\n",
    "import numpy as np\n",
    "from math import fabs,sqrt\n",
    "import glob, os"
   ]
  },
  {
   "cell_type": "code",
   "execution_count": 3,
   "metadata": {},
   "outputs": [],
   "source": [
    "headless = True\n",
    "if headless:\n",
    "    os.environ[\"SDL_VIDEODRIVER\"] = \"dummy\""
   ]
  },
  {
   "cell_type": "code",
   "execution_count": 4,
   "metadata": {},
   "outputs": [],
   "source": [
    "experiment_name = 'individual_a1_demo'\n",
    "if not os.path.exists(experiment_name):\n",
    "    os.makedirs(experiment_name)"
   ]
  },
  {
   "cell_type": "code",
   "execution_count": 10,
   "metadata": {},
   "outputs": [
    {
     "name": "stdout",
     "output_type": "stream",
     "text": [
      "\n",
      "MESSAGE: Pygame initialized for simulation.\n"
     ]
    }
   ],
   "source": [
    "n_hidden_neurons = 10\n",
    "\n",
    "env = Environment(experiment_name=experiment_name,\n",
    "                  enemies=[2],\n",
    "                  playermode=\"ai\",\n",
    "                  player_controller=player_controller(n_hidden_neurons),\n",
    "                  enemymode=\"static\",\n",
    "                  level=2,\n",
    "                  speed=\"fastest\")\n"
   ]
  },
  {
   "cell_type": "code",
   "execution_count": 11,
   "metadata": {},
   "outputs": [
    {
     "name": "stdout",
     "output_type": "stream",
     "text": [
      "\n",
      "########## Simulation state - INI ###########\n",
      "\n",
      "# solutions # : EMPTY \n",
      "\n",
      "# sensors # : 20\n",
      "\n",
      " ------  parameters ------  \n",
      "\n",
      "# contact hurt (training agent) # : player\n",
      "\n",
      "multiple mode: no\n",
      "\n",
      "enemies list: 2\n",
      "\n",
      "current enemy: 2\n",
      "\n",
      "player mode: ai\n",
      "\n",
      "enemy mode: static\n",
      "\n",
      "level: 2\n",
      "\n",
      "clock precision: low\n",
      "\n",
      "inputs coded: no\n",
      "\n",
      "random initialization: no\n",
      "\n",
      "expiration time: 3000\n",
      "\n",
      "speed: fastest\n",
      "\n",
      "load player: yes\n",
      "\n",
      "load enemy: yes\n",
      "\n",
      "sound: off\n",
      "\n",
      "overture time: 100\n",
      "\n",
      "logs: on\n",
      "\n",
      "save logs: yes\n",
      "\n",
      "########## Simulation state - END ###########\n"
     ]
    }
   ],
   "source": [
    "env.state_to_log() # checks environment state\n"
   ]
  },
  {
   "cell_type": "code",
   "execution_count": 12,
   "metadata": {},
   "outputs": [],
   "source": [
    "ini = time.time()  # sets time marker\n",
    "\n",
    "\n",
    "# genetic algorithm params\n",
    "\n",
    "run_mode = 'train' # train or test\n",
    "\n",
    "# number of weights for multilayer with 10 hidden neurons\n",
    "n_vars = (env.get_num_sensors()+1)*n_hidden_neurons + (n_hidden_neurons+1)*5\n",
    "\n",
    "\n",
    "dom_u = 1\n",
    "dom_l = -1\n",
    "npop = 100\n",
    "gens = 30\n",
    "mutation = 0.2\n",
    "last_best = 0"
   ]
  },
  {
   "cell_type": "code",
   "execution_count": 14,
   "metadata": {},
   "outputs": [
    {
     "data": {
      "text/plain": [
       "20"
      ]
     },
     "execution_count": 14,
     "metadata": {},
     "output_type": "execute_result"
    }
   ],
   "source": [
    "env.get_num_sensors()"
   ]
  },
  {
   "cell_type": "code",
   "execution_count": 16,
   "metadata": {},
   "outputs": [],
   "source": [
    "\n",
    "# runs simulation\n",
    "def simulation(env,x):\n",
    "    f,p,e,t = env.play(pcont=x)\n",
    "    return f\n",
    "\n",
    "# normalizes\n",
    "def norm(x, pfit_pop):\n",
    "\n",
    "    if ( max(pfit_pop) - min(pfit_pop) ) > 0:\n",
    "        x_norm = ( x - min(pfit_pop) )/( max(pfit_pop) - min(pfit_pop) )\n",
    "    else:\n",
    "        x_norm = 0\n",
    "\n",
    "    if x_norm <= 0:\n",
    "        x_norm = 0.0000000001\n",
    "    return x_norm\n",
    "\n",
    "\n",
    "# evaluation\n",
    "def evaluate(x):\n",
    "    return np.array(list(map(lambda y: simulation(env,y), x)))\n",
    "\n",
    "\n",
    "# tournament\n",
    "def tournament(pop):\n",
    "    c1 =  np.random.randint(0,pop.shape[0], 1)\n",
    "    c2 =  np.random.randint(0,pop.shape[0], 1)\n",
    "\n",
    "    if fit_pop[c1] > fit_pop[c2]:\n",
    "        return pop[c1][0]\n",
    "    else:\n",
    "        return pop[c2][0]\n",
    "\n",
    "\n",
    "# limits\n",
    "def limits(x):\n",
    "\n",
    "    if x>dom_u:\n",
    "        return dom_u\n",
    "    elif x<dom_l:\n",
    "        return dom_l\n",
    "    else:\n",
    "        return x\n",
    "\n",
    "\n",
    "# crossover\n",
    "def crossover(pop):\n",
    "\n",
    "    total_offspring = np.zeros((0,n_vars))\n",
    "\n",
    "\n",
    "    for p in range(0,pop.shape[0], 2):\n",
    "        p1 = tournament(pop)\n",
    "        p2 = tournament(pop)\n",
    "\n",
    "        n_offspring =   np.random.randint(1,3+1, 1)[0]\n",
    "        offspring =  np.zeros( (n_offspring, n_vars) )\n",
    "\n",
    "        for f in range(0,n_offspring):\n",
    "\n",
    "            cross_prop = np.random.uniform(0,1)\n",
    "            offspring[f] = p1*cross_prop+p2*(1-cross_prop)\n",
    "\n",
    "            # mutation\n",
    "            for i in range(0,len(offspring[f])):\n",
    "                if np.random.uniform(0 ,1)<=mutation:\n",
    "                    offspring[f][i] =   offspring[f][i]+np.random.normal(0, 1)\n",
    "\n",
    "            offspring[f] = np.array(list(map(lambda y: limits(y), offspring[f])))\n",
    "\n",
    "            total_offspring = np.vstack((total_offspring, offspring[f]))\n",
    "\n",
    "    return total_offspring\n",
    "\n",
    "\n",
    "# kills the worst genomes, and replace with new best/random solutions\n",
    "def doomsday(pop,fit_pop):\n",
    "\n",
    "    worst = int(npop/4)  # a quarter of the population\n",
    "    order = np.argsort(fit_pop)\n",
    "    orderasc = order[0:worst]\n",
    "\n",
    "    for o in orderasc:\n",
    "        for j in range(0,n_vars):\n",
    "            pro = np.random.uniform(0,1)\n",
    "            if np.random.uniform(0,1)  <= pro:\n",
    "                pop[o][j] = np.random.uniform(dom_l, dom_u) # random dna, uniform dist.\n",
    "            else:\n",
    "                pop[o][j] = pop[order[-1:]][0][j] # dna from best\n",
    "\n",
    "        fit_pop[o]=evaluate([pop[o]])\n",
    "\n",
    "    return pop,fit_pop\n"
   ]
  },
  {
   "cell_type": "code",
   "execution_count": null,
   "metadata": {},
   "outputs": [],
   "source": []
  }
 ],
 "metadata": {
  "kernelspec": {
   "display_name": "Python 3.10.7 ('EC')",
   "language": "python",
   "name": "python3"
  },
  "language_info": {
   "codemirror_mode": {
    "name": "ipython",
    "version": 3
   },
   "file_extension": ".py",
   "mimetype": "text/x-python",
   "name": "python",
   "nbconvert_exporter": "python",
   "pygments_lexer": "ipython3",
   "version": "3.10.7"
  },
  "orig_nbformat": 4,
  "vscode": {
   "interpreter": {
    "hash": "15b0e9990ce4c3d582d1c1cfa677b15eac980d8a57c8afb0892766a66794b209"
   }
  }
 },
 "nbformat": 4,
 "nbformat_minor": 2
}
